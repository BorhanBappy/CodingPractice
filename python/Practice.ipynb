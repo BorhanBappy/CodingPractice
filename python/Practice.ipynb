{
 "cells": [
  {
   "cell_type": "markdown",
   "metadata": {},
   "source": [
    "# sting"
   ]
  },
  {
   "cell_type": "code",
   "execution_count": null,
   "metadata": {},
   "outputs": [],
   "source": [
    "jupyter nbconvert --to markdown Practice.ipynb --output README.md\n"
   ]
  },
  {
   "cell_type": "code",
   "execution_count": 4,
   "metadata": {},
   "outputs": [
    {
     "name": "stdout",
     "output_type": "stream",
     "text": [
      "hello world\n",
      "<class 'str'>\n"
     ]
    }
   ],
   "source": [
    "# sting\n",
    "\n",
    "s=\"hello world\"\n",
    "print(s)\n",
    "print(type(s))"
   ]
  },
  {
   "cell_type": "markdown",
   "metadata": {},
   "source": [
    "## multiple string"
   ]
  },
  {
   "cell_type": "code",
   "execution_count": 7,
   "metadata": {},
   "outputs": [
    {
     "name": "stdout",
     "output_type": "stream",
     "text": [
      "My name is jhon.\n",
      "I am the owner of dev.com\n",
      "Dev is very popular website in Developers community.\n",
      "my name is jhonI am the owner of dev.comDev is very popular website in Developers community.\n",
      "My name is jhon.I am the owner of dev.comDev is very popular website in Developers community.\n"
     ]
    }
   ],
   "source": [
    "\n",
    "# Using triple quotes\n",
    "ms=\"\"\"My name is jhon.\n",
    "I am the owner of dev.com\n",
    "Dev is very popular website in Developers community.\"\"\"\n",
    "\n",
    "print(ms)\n",
    "#using Braket\n",
    "ms=(\"my name is jhon\"\n",
    "\"I am the owner of dev.com\"\n",
    "\"Dev is very popular website in Developers community.\")\n",
    "print(ms)\n",
    "#using backslash\n",
    "ms=\"My name is jhon.\" \\\n",
    "\"I am the owner of dev.com\" \\\n",
    "\"Dev is very popular website in Developers community.\"\n",
    "print(ms)"
   ]
  },
  {
   "cell_type": "markdown",
   "metadata": {},
   "source": [
    "## String concatention"
   ]
  },
  {
   "cell_type": "code",
   "execution_count": null,
   "metadata": {},
   "outputs": [],
   "source": []
  }
 ],
 "metadata": {
  "interpreter": {
   "hash": "6aa3267c43c480db83136687717d12af1b8da1bd6ea0ab8c341f6be248d2dd22"
  },
  "kernelspec": {
   "display_name": "Python 3.8.8 64-bit ('base': conda)",
   "name": "python3"
  },
  "language_info": {
   "codemirror_mode": {
    "name": "ipython",
    "version": 3
   },
   "file_extension": ".py",
   "mimetype": "text/x-python",
   "name": "python",
   "nbconvert_exporter": "python",
   "pygments_lexer": "ipython3",
   "version": "3.8.8"
  },
  "orig_nbformat": 4
 },
 "nbformat": 4,
 "nbformat_minor": 2
}
