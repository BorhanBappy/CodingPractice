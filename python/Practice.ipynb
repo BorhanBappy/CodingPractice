{
 "cells": [
  {
   "cell_type": "markdown",
   "metadata": {},
   "source": [
    "# sting"
   ]
  },
  {
   "cell_type": "code",
   "execution_count": 102,
   "metadata": {},
   "outputs": [],
   "source": [
    "#jupyter nbconvert --to markdown Practice.ipynb --output README.md\n"
   ]
  },
  {
   "cell_type": "code",
   "execution_count": 103,
   "metadata": {},
   "outputs": [
    {
     "name": "stdout",
     "output_type": "stream",
     "text": [
      "hello world\n",
      "<class 'str'>\n"
     ]
    }
   ],
   "source": [
    "# sting\n",
    "\n",
    "s=\"hello world\"\n",
    "print(s)\n",
    "print(type(s))"
   ]
  },
  {
   "cell_type": "markdown",
   "metadata": {},
   "source": [
    "## multiple string"
   ]
  },
  {
   "cell_type": "code",
   "execution_count": 136,
   "metadata": {},
   "outputs": [
    {
     "name": "stdout",
     "output_type": "stream",
     "text": [
      "My name is jhon.\n",
      "I am the owner of dev.com \n",
      "dev is \n",
      "very popular website in Developers community.\n",
      "my name is jhonI am the owner of dev.comDev is very popular website in Developers community.\n",
      "My name is jhon.I am the owner of dev.comDev is very popular website in Developers community.\n"
     ]
    }
   ],
   "source": [
    "\n",
    "# Using triple quotes\n",
    "ms=\"\"\"My name is jhon.\n",
    "I am the owner of dev.com \n",
    "dev is \n",
    "very popular website in Developers community.\"\"\"\n",
    "\n",
    "print(ms)\n",
    "#using Braket\n",
    "ms=(\"my name is jhon\"\n",
    "\"I am the owner of dev.com\"\n",
    "\"Dev is very popular website in Developers community.\")\n",
    "print(ms)\n",
    "#using backslash\n",
    "ms=\"My name is jhon.\" \\\n",
    "\"I am the owner of dev.com\" \\\n",
    "\"Dev is very popular website in Developers community.\"\n",
    "print(ms)"
   ]
  },
  {
   "cell_type": "markdown",
   "metadata": {},
   "source": [
    "## String concatention"
   ]
  },
  {
   "cell_type": "markdown",
   "metadata": {},
   "source": [
    "### String Concatenation using + Operator\n",
    "\n"
   ]
  },
  {
   "cell_type": "code",
   "execution_count": 137,
   "metadata": {},
   "outputs": [
    {
     "name": "stdout",
     "output_type": "stream",
     "text": [
      "AppleBananaOrange\n",
      "Hello2\n"
     ]
    }
   ],
   "source": [
    "s1='Apple'\n",
    "s2='Banana' \n",
    "s3='Orange'                                                           \n",
    "s4=s1+s2+s3\n",
    "print(s4)\n",
    "# However,the arguments must be a string.\n",
    "#Let's try to concatenate a string to integer:\n",
    "print('Hello' +\"\" + str(2))"
   ]
  },
  {
   "cell_type": "code",
   "execution_count": 138,
   "metadata": {},
   "outputs": [
    {
     "name": "stdout",
     "output_type": "stream",
     "text": [
      "Hello bappy is to stirng\n",
      "<class 'str'>\n",
      "5555 is to Integer\n",
      "<class 'int'>\n",
      "this is the print statement 1this is the print statement 2\n",
      "hello \n",
      "hello \n",
      "hello \n",
      "hello \n",
      "hello \n",
      "hello \n",
      "hello \n",
      "hello \n",
      "hello \n",
      "hello \n",
      "hello \n",
      "hello \n",
      "hello \n",
      "hello \n",
      "hello \n",
      "hello \n",
      "hello \n",
      "hello \n",
      "hello \n",
      "hello \n",
      "\n"
     ]
    }
   ],
   "source": [
    "str2=\"Hello bappy\"\n",
    "print(\"%s is to stirng\" %(str2)) # %s to stirng\n",
    "print(type(str2))\n",
    "int1=5555\n",
    "print(\"%s is to Integer\" %(int1)) # %s to INt\n",
    "print(type(int1))\n",
    "print('this is the print statement 1' ,end=\"\")\n",
    "print('this is the print statement 2')\n",
    "print(\"hello \\n\"*20)"
   ]
  },
  {
   "cell_type": "markdown",
   "metadata": {},
   "source": [
    "## String Function"
   ]
  },
  {
   "cell_type": "code",
   "execution_count": 139,
   "metadata": {},
   "outputs": [
    {
     "name": "stdout",
     "output_type": "stream",
     "text": [
      "This is borhan uddin\n",
      "THIS IS BORHAN UDDIN\n",
      "this is borhan uddin\n",
      "8\n",
      "This is borhan uddin bappy\n"
     ]
    }
   ],
   "source": [
    "Str=\"this is Borhan Uddin\"\n",
    "print(Str.capitalize())\n",
    "print(Str.upper())\n",
    "print(Str.lower())\n",
    "#First word capitilize\n",
    "print(Str.find(\"Borhan\"))\n",
    "print(Str.replace(\"Borhan Uddin\",\"Borhan Uddin Bappy\").capitalize())"
   ]
  },
  {
   "cell_type": "markdown",
   "metadata": {},
   "source": [
    "# Variable"
   ]
  },
  {
   "cell_type": "code",
   "execution_count": 140,
   "metadata": {},
   "outputs": [
    {
     "name": "stdout",
     "output_type": "stream",
     "text": [
      "hello Borhan Uddin Bappy \n"
     ]
    }
   ],
   "source": [
    "First_name = \"Borhan Uddin\"\n",
    "Last_name =\" Bappy \"\n",
    "full_name = First_name + Last_name\n",
    "print( \"hello \"+ full_name)"
   ]
  },
  {
   "cell_type": "markdown",
   "metadata": {},
   "source": [
    "# Arthmetic operation"
   ]
  },
  {
   "cell_type": "code",
   "execution_count": 141,
   "metadata": {},
   "outputs": [
    {
     "name": "stdout",
     "output_type": "stream",
     "text": [
      "3 + 5 = 8\n",
      "3 * 5 =) 15\n",
      "3 / 5 = 0.6\n",
      "3 // 5 = 0\n",
      "3 % 5 = 3\n",
      "This is a \" \n"
     ]
    }
   ],
   "source": [
    "print(\"3 + 5 =\",3+5)\n",
    "print(\"3 * 5 =)\",3*5 )\n",
    "print(\"3 / 5 =\",3/5)\n",
    "print(\"3 // 5 =\",3//5)\n",
    "print(\"3 % 5 =\",3%5)\n",
    "print(\"This is a \\\" \")"
   ]
  },
  {
   "cell_type": "markdown",
   "metadata": {},
   "source": [
    "# List"
   ]
  },
  {
   "cell_type": "code",
   "execution_count": 112,
   "metadata": {},
   "outputs": [
    {
     "name": "stdout",
     "output_type": "stream",
     "text": [
      "green university\n",
      "['green university', 'daffodill university', 'dhaka university', 'jahangirnagor university', 'AIUB', 'Brack University']\n",
      "['green university', 'Daffodill University', 'Dhaka University', 'Jahangirnagor University', 'dhaka university', 'jahangirnagor university', 'AIUB', 'Brack University']\n",
      "['green university', 'Daffodill University', 'Dhaka University', 'Jaganth University', 'dhaka university', 'AIUB', 'Brack University']\n",
      "['Green university', 'Daffodill University', 'Dhaka University', 'Jaganth University', 'Dhaka University', 'AIUB', 'Brack University']\n",
      "5\n",
      "2\n",
      "1\n",
      "Daffodill University\n",
      "['Green university', 'Jaganth University', 'Dhaka University', 'AIUB', 'Brack University']\n",
      "['Green university', 'Daffodill University', 'Jaganth University', 'Dhaka University', 'AIUB', 'Brack University']\n",
      "['Green university', 'Daffodill University', 'Jaganth University', 'Dhaka University', 'AIUB', 'Brack University', 'NSU', 'MBSTU', 'NSTU']\n",
      "6\n",
      "9\n",
      "['AIUB', 'Brack University', 'Daffodill University', 'Dhaka University', 'Green university', 'Jaganth University']\n"
     ]
    }
   ],
   "source": [
    "University=['green university','daffodill university','dhaka university','jahangirnagor university','AIUB']\n",
    "print(University[0])\n",
    "University.append('Brack University')\n",
    "print(University)\n",
    "University.insert(1,'Daffodill University')\n",
    "University.insert(2,'Dhaka University')\n",
    "University[3]='Jahangirnagor University'\n",
    "print(University)\n",
    "University[3]='Jaganth University'\n",
    "University.remove('jahangirnagor university')\n",
    "print(University)\n",
    "for uni in range(len(University)):\n",
    "    if University[uni]=='green university':\n",
    "       University[uni]='Green university'\n",
    "    if University[uni]=='dhaka university':\n",
    "        University[uni]='Dhaka University'\n",
    "print(University)\n",
    "print(University.index('AIUB'))\n",
    "print(University.count('Dhaka University'))\n",
    "University.remove('Dhaka University')\n",
    "print(University.count('Dhaka University'))\n",
    "print(University.pop(1))\n",
    "print(University)\n",
    "University.insert(1,'Daffodill University')\n",
    "print(University)\n",
    "univer=(University + ['NSU','MBSTU','NSTU'])\n",
    "print(univer)\n",
    "print(len(University))\n",
    "print(len(univer))\n",
    "University.reverse()\n",
    "University.sort()\n",
    "print(University)\n",
    "# print(max(University))\n",
    "# print(min(University))"
   ]
  },
  {
   "cell_type": "markdown",
   "metadata": {},
   "source": [
    "# Tuples"
   ]
  },
  {
   "cell_type": "code",
   "execution_count": 113,
   "metadata": {},
   "outputs": [
    {
     "name": "stdout",
     "output_type": "stream",
     "text": [
      "4\n",
      "(1, 'bappy', 3, True, (2-3j))\n",
      "5\n",
      "(1, 2, 4, 1, 'bappy', 3, True, (2-3j))\n",
      "('bappy', 3, True)\n",
      "(1, 'bappy', 3, True, (2-3j)) (1, 2, 4)\n",
      "(1, 'bappy', 3, True, (2-3j), 1, 2, 4)\n"
     ]
    }
   ],
   "source": [
    "#tuple element does not change,we use diffrent type of element in tuple.\n",
    "tup1=(1,2,4)\n",
    "print(tup1[2])\n",
    "tup2=(1,\"bappy\",3,True,2-3j)\n",
    "print(tup2)\n",
    "print(len(tup2))\n",
    "print(tup1+tup2)\n",
    "print(tup2[1:4])\n",
    "print(tup2,tup1)\n",
    "print(tup2+tup1)\n"
   ]
  },
  {
   "cell_type": "markdown",
   "metadata": {},
   "source": [
    "## Repeat tuple element\n"
   ]
  },
  {
   "cell_type": "code",
   "execution_count": 114,
   "metadata": {},
   "outputs": [
    {
     "name": "stdout",
     "output_type": "stream",
     "text": [
      "(1, 2, 4, 1, 2, 4, 1, 2, 4, 1, 'bappy', 3, True, (2-3j))\n"
     ]
    }
   ],
   "source": [
    "tup1=(1,2,4)\n",
    "print(tup1*3+tup2)\n"
   ]
  },
  {
   "cell_type": "markdown",
   "metadata": {},
   "source": [
    "## Tuple Maximum and manimum Value\n"
   ]
  },
  {
   "cell_type": "code",
   "execution_count": 115,
   "metadata": {},
   "outputs": [
    {
     "name": "stdout",
     "output_type": "stream",
     "text": [
      "-1\n",
      "44\n"
     ]
    }
   ],
   "source": [
    "tup2=(1,7,3,44,2-3)\n",
    "print(min(tup2))\n",
    "print(max(tup2))"
   ]
  },
  {
   "cell_type": "markdown",
   "metadata": {},
   "source": [
    "## Tuple to list convert"
   ]
  },
  {
   "cell_type": "code",
   "execution_count": 116,
   "metadata": {},
   "outputs": [
    {
     "name": "stdout",
     "output_type": "stream",
     "text": [
      "[2, 4, 5, 6, 22]\n"
     ]
    }
   ],
   "source": [
    "tup1=(2,4,5,6,22)\n",
    "list1=list(tup1)\n",
    "print(list1)\n"
   ]
  },
  {
   "cell_type": "markdown",
   "metadata": {},
   "source": [
    "# Dictionaries"
   ]
  },
  {
   "cell_type": "code",
   "execution_count": 117,
   "metadata": {},
   "outputs": [
    {
     "name": "stdout",
     "output_type": "stream",
     "text": [
      "20\n",
      "21\n",
      "dict_keys(['Borhan', 'sharukh', 'Shoab', 'Ariful'])\n"
     ]
    }
   ],
   "source": [
    "names={'Borhan':24,\n",
    "'sharukh':22,\n",
    "'Shoab':20,\n",
    "'Ariful':18}\n",
    "print(names['Shoab'])\n",
    "names['Ariful']=21\n",
    "print(names['Ariful'])\n",
    "print(names.keys())\n"
   ]
  },
  {
   "cell_type": "markdown",
   "metadata": {},
   "source": [
    "#"
   ]
  }
 ],
 "metadata": {
  "interpreter": {
   "hash": "6aa3267c43c480db83136687717d12af1b8da1bd6ea0ab8c341f6be248d2dd22"
  },
  "kernelspec": {
   "display_name": "Python 3.8.8 64-bit ('base': conda)",
   "name": "python3"
  },
  "language_info": {
   "codemirror_mode": {
    "name": "ipython",
    "version": 3
   },
   "file_extension": ".py",
   "mimetype": "text/x-python",
   "name": "python",
   "nbconvert_exporter": "python",
   "pygments_lexer": "ipython3",
   "version": "3.8.8"
  },
  "orig_nbformat": 4
 },
 "nbformat": 4,
 "nbformat_minor": 2
}
